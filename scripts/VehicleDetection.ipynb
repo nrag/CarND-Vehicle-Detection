{
 "cells": [
  {
   "cell_type": "code",
   "execution_count": 4,
   "metadata": {
    "collapsed": false
   },
   "outputs": [
    {
     "name": "stdout",
     "output_type": "stream",
     "text": [
      "Number of car images 8792\n",
      "Number of non-car images 8968\n"
     ]
    }
   ],
   "source": [
    "%load_ext autoreload\n",
    "\n",
    "import numpy as np\n",
    "import pickle\n",
    "import cv2\n",
    "import glob\n",
    "\n",
    "car_images = glob.glob('../vehicles/**/*.png')\n",
    "noncar_images = glob.glob('../non-vehicles/**/*.png')\n",
    "print('Number of car images', len(car_images))\n",
    "print('Number of non-car images', len(noncar_images))"
   ]
  },
  {
   "cell_type": "code",
   "execution_count": 47,
   "metadata": {
    "collapsed": false
   },
   "outputs": [
    {
     "name": "stdout",
     "output_type": "stream",
     "text": [
      "Best parameters are: \\      \n",
      "\tColor Space =  LUV, \\      \n",
      "\tbin_size = (32, 32), \\      \n",
      "\thist_bins = 32, \\      \n",
      "\thist_bin_range = (0, 32), \\      \n",
      "\thog_orient = 11, \\      \n",
      "\thog_pix_per_cell = 8, \\      \n",
      "\thog_pix_per_block = 3\n",
      "Classifier score: 0.9879\n"
     ]
    }
   ],
   "source": [
    "%autoreload\n",
    "\n",
    "from feature_search import get_best_parameters\n",
    "from image_features import ImageFeatures\n",
    "from vehicle_classifier import VehicleClassifier\n",
    "\n",
    "best_params, best_classifier, best_score = get_best_parameters()\n",
    "print(\"Best parameters are: \\\\\n",
    "      \\n\\tColor Space =  %s, \\\\\n",
    "      \\n\\tbin_size = %s, \\\\\n",
    "      \\n\\thist_bins = %d, \\\\\n",
    "      \\n\\thist_bin_range = (0, %d), \\\\\n",
    "      \\n\\thog_orient = %d, \\\\\n",
    "      \\n\\thog_pix_per_cell = %d, \\\\\n",
    "      \\n\\thog_pix_per_block = %d\" % (best_params['cspace'], best_params['bin_size'], best_params['hist_bins'], best_params['hist_bin_range'], best_params['hog_orient'], best_params['hog_pix_per_cell'], best_params['hog_cell_per_block']))\n",
    "\n",
    "featurizer = ImageFeatures(color_space=best_params['cspace'], \n",
    "                 bin_size=best_params['bin_size'], \n",
    "                 hist_bins=best_params['hist_bins'], \n",
    "                 hist_bin_range=(0,best_params['hist_bin_range']), \n",
    "                 hog_channel=best_params['hog_channel'],\n",
    "                 hog_orient=best_params['hog_orient'], \n",
    "                 hog_pix_per_cell=best_params['hog_pix_per_cell'], \n",
    "                 hog_cell_per_block=best_params['hog_cell_per_block'])\n",
    "\n",
    "car_features = featurizer.featurize(car_images)\n",
    "noncar_features = featurizer.featurize(noncar_images)\n",
    "classifier = VehicleClassifier(car_features, noncar_features)\n",
    "score = classifier.fit()\n",
    "\n",
    "print('Classifier score:', score)"
   ]
  },
  {
   "cell_type": "code",
   "execution_count": null,
   "metadata": {
    "collapsed": false,
    "scrolled": false
   },
   "outputs": [],
   "source": [
    "%autoreload\n",
    "\n",
    "import matplotlib.image as mpimg\n",
    "import matplotlib.pyplot as plt\n",
    "import glob\n",
    "\n",
    "from vehicle_searcher import VehicleSearcher\n",
    "from sliding_window import SlidingWindow\n",
    "\n",
    "%matplotlib inline\n",
    "\n",
    "slider0 = SlidingWindow(featurizer, classifier, x_start_stop=[None,None], y_start_stop=[350, 450], xy_window=[20,20])\n",
    "slider1 = SlidingWindow(featurizer, classifier, x_start_stop=[None,None], y_start_stop=[370, 430], xy_window=[32,32], xy_step=(5, 5))\n",
    "slider2 = SlidingWindow(featurizer, classifier, x_start_stop=[None,None], y_start_stop=[400, 470], xy_window=[48,48], xy_step=(5, 5))\n",
    "slider3 = SlidingWindow(featurizer, classifier, x_start_stop=[None,None], y_start_stop=[420, 500], xy_window=[64,64], xy_step=(5, 5))\n",
    "slider4 = SlidingWindow(featurizer, classifier, x_start_stop=[None,None], y_start_stop=[400, 530], xy_window=[96,96], xy_step=(5, 5))\n",
    "slider5 = SlidingWindow(featurizer, classifier, x_start_stop=[None,None], y_start_stop=[430, 560], xy_window=[128,128], xy_step=(5, 5))\n",
    "slider6 = SlidingWindow(featurizer, classifier, x_start_stop=[None,None], y_start_stop=[500, 690], xy_window=[192,192], xy_step=(5, 5))\n",
    "\n",
    "searcher=VehicleSearcher([slider1, slider2, slider3, slider4, slider5, slider6])\n",
    "\n",
    "test_images = glob.glob('../test_images/*.jpg')\n",
    "\n",
    "fig, axs = plt.subplots(len(test_images), 3, figsize=(40, 50))\n",
    "fig.subplots_adjust(hspace = .2, wspace=.001)\n",
    "axs = axs.ravel()\n",
    "\n",
    "for i in range(len(test_images)):\n",
    "    img_path = test_images[i]\n",
    "    img = mpimg.imread(img_path)\n",
    "    heatmap, draw_img = searcher.detect(img)\n",
    "\n",
    "    axs[3*i].imshow(img)\n",
    "    axs[3*i+1].imshow(heatmap, cmap='hot')\n",
    "    axs[3*i+2].imshow(draw_img)\n"
   ]
  },
  {
   "cell_type": "code",
   "execution_count": 81,
   "metadata": {
    "collapsed": false
   },
   "outputs": [
    {
     "name": "stderr",
     "output_type": "stream",
     "text": [
      "WARNING:py.warnings://anaconda/envs/udacity/lib/python3.5/site-packages/moviepy/audio/io/readers.py:123: VisibleDeprecationWarning: using a non-integer number instead of an integer will result in an error in the future\n",
      "  self.nchannels))\n",
      "\n"
     ]
    },
    {
     "name": "stdout",
     "output_type": "stream",
     "text": [
      "[MoviePy] >>>> Building video ../test_video_out.mp4\n",
      "[MoviePy] Writing video ../test_video_out.mp4\n"
     ]
    },
    {
     "name": "stderr",
     "output_type": "stream",
     "text": [
      " 97%|█████████▋| 38/39 [02:03<00:03,  3.39s/it]\n"
     ]
    },
    {
     "name": "stdout",
     "output_type": "stream",
     "text": [
      "[MoviePy] Done.\n",
      "[MoviePy] >>>> Video ready: ../test_video_out.mp4 \n",
      "\n"
     ]
    }
   ],
   "source": [
    "%autoreload\n",
    "\n",
    "from video_detect import VideoCarDetection\n",
    "\n",
    "out_file = '../test_video_out.mp4'\n",
    "input_file = '../test_video.mp4'\n",
    "    \n",
    "video = VideoCarDetection(classifier, featurizer, input_file, out_file)\n",
    "video.annotate_video()"
   ]
  },
  {
   "cell_type": "code",
   "execution_count": 55,
   "metadata": {
    "collapsed": false
   },
   "outputs": [
    {
     "data": {
      "text/html": [
       "\n",
       "<video width=\"960\" height=\"540\" controls>\n",
       "  <source src=\"../test_video_out.mp4\">\n",
       "</video>\n"
      ],
      "text/plain": [
       "<IPython.core.display.HTML object>"
      ]
     },
     "execution_count": 55,
     "metadata": {},
     "output_type": "execute_result"
    }
   ],
   "source": [
    "from IPython.display import HTML\n",
    "\n",
    "HTML(\"\"\"\n",
    "<video width=\"960\" height=\"540\" controls>\n",
    "  <source src=\"{0}\">\n",
    "</video>\n",
    "\"\"\".format(out_file))"
   ]
  },
  {
   "cell_type": "code",
   "execution_count": null,
   "metadata": {
    "collapsed": true
   },
   "outputs": [],
   "source": []
  }
 ],
 "metadata": {
  "anaconda-cloud": {},
  "kernelspec": {
   "display_name": "Python [conda env:udacity]",
   "language": "python",
   "name": "conda-env-udacity-py"
  },
  "language_info": {
   "codemirror_mode": {
    "name": "ipython",
    "version": 3
   },
   "file_extension": ".py",
   "mimetype": "text/x-python",
   "name": "python",
   "nbconvert_exporter": "python",
   "pygments_lexer": "ipython3",
   "version": "3.5.2"
  }
 },
 "nbformat": 4,
 "nbformat_minor": 1
}
