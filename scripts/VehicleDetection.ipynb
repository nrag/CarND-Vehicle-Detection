{
 "cells": [
  {
   "cell_type": "code",
   "execution_count": 2,
   "metadata": {
    "collapsed": false
   },
   "outputs": [
    {
     "name": "stdout",
     "output_type": "stream",
     "text": [
      "The autoreload extension is already loaded. To reload it, use:\n",
      "  %reload_ext autoreload\n",
      "Number of car images 8792\n",
      "Number of non-car images 8968\n"
     ]
    }
   ],
   "source": [
    "%load_ext autoreload\n",
    "\n",
    "import numpy as np\n",
    "import pickle\n",
    "import cv2\n",
    "import glob\n",
    "\n",
    "car_images = glob.glob('../vehicles/**/*.png')\n",
    "noncar_images = glob.glob('../non-vehicles/**/*.png')\n",
    "print('Number of car images', len(car_images))\n",
    "print('Number of non-car images', len(noncar_images))"
   ]
  },
  {
   "cell_type": "code",
   "execution_count": null,
   "metadata": {
    "collapsed": false
   },
   "outputs": [
    {
     "name": "stderr",
     "output_type": "stream",
     "text": [
      "\r",
      "  0%|          | 0/28800 [00:00<?, ?it/s]"
     ]
    }
   ],
   "source": [
    "%autoreload\n",
    "\n",
    "from tqdm import tqdm\n",
    "from image_features import ImageFeatures\n",
    "from vehicle_classifier import VehicleClassifier\n",
    "\n",
    "best_score = 0\n",
    "best_params = {}\n",
    "best_classifier = None\n",
    "\n",
    "with tqdm(total=28800) as pbar:\n",
    "    for cspace in ['RGB', 'HSV', 'LUV', 'HLS', 'YUV', 'YCrCb']:\n",
    "        for bin_size in [(8,8), (16,16), (32,32), (48,48)]:\n",
    "            for hist_bins in [8, 16, 32, 48]:\n",
    "                for hist_bin_range in [8, 16, 32, 48]:\n",
    "                    for hog_orient in [9, 10, 11, 12, 13]:\n",
    "                        for hog_pix_per_cell in [4, 6, 8, 10, 12]:\n",
    "                            for hog_cell_per_block in [2, 4, 6]:\n",
    "                                featurizer = ImageFeatures(color_space=cspace, \n",
    "                                                 bin_size=bin_size, \n",
    "                                                 hist_bins=hist_bins, \n",
    "                                                 hist_bin_range=(0,hist_bin_range), \n",
    "                                                 hog_orient=hog_orient, \n",
    "                                                 hog_pix_per_cell=hog_pix_per_cell, \n",
    "                                                 hog_cell_per_block=hog_cell_per_block)\n",
    "                                car_features = featurizer.featurize(car_images)\n",
    "                                noncar_features = featurizer.featurize(noncar_images)\n",
    "                                classifier = VehicleClassifier(car_features, noncar_features)\n",
    "                                score = classifier.fit()\n",
    "                                if (score > best_score):\n",
    "                                    print('Classification accuracy improved to: ', score)\n",
    "                                    best_score = score\n",
    "                                    best_classifier = classifier\n",
    "                                    best_params['cspace'] = cspace\n",
    "                                    best_params['bin_size'] = bin_size\n",
    "                                    best_params['hist_bins'] = hist_bins\n",
    "                                    best_params['hist_bin_range'] = hist_bin_range\n",
    "                                    best_params['hog_orient'] = hog_orient\n",
    "                                    best_params['hog_pix_per_cell'] = hog_pix_per_cell\n",
    "                                    best_params['hog_cell_per_block'] = hog_cell_per_block\n",
    "                                \n",
    "                                pbar.update(1)\n",
    "\n",
    "print('Best accuracy = ', best_accuracy)\n",
    "print(\"Best parameters are: Color Space =  %s, bin_size = %s, hist_bins = %d, hist_bin_range = (0, %d), hog_orient = %d, hog_pix_per_cell = %d, hog_pix_per_block = %d\" % (best_params['cspace'], best_params['bin_size'], best_params['hist_bins'], best_params['hist_bin_range'], best_params['hog_orient'], best_params['hog_pix_per_cell'], best_params['hog_cell_per_block']))"
   ]
  },
  {
   "cell_type": "code",
   "execution_count": 24,
   "metadata": {
    "collapsed": false
   },
   "outputs": [
    {
     "name": "stdout",
     "output_type": "stream",
     "text": [
      "Classifier score: 10\n"
     ]
    }
   ],
   "source": [
    "%autoreload \n",
    "import tqdm\n",
    "\n",
    "print('Classifier score:', 10)"
   ]
  },
  {
   "cell_type": "code",
   "execution_count": 21,
   "metadata": {
    "collapsed": false
   },
   "outputs": [
    {
     "name": "stdout",
     "output_type": "stream",
     "text": [
      "10\n"
     ]
    }
   ],
   "source": [
    "print(\"%d\" % 10)"
   ]
  },
  {
   "cell_type": "code",
   "execution_count": null,
   "metadata": {
    "collapsed": true
   },
   "outputs": [],
   "source": []
  }
 ],
 "metadata": {
  "anaconda-cloud": {},
  "kernelspec": {
   "display_name": "Python [conda env:udacity]",
   "language": "python",
   "name": "conda-env-udacity-py"
  },
  "language_info": {
   "codemirror_mode": {
    "name": "ipython",
    "version": 3
   },
   "file_extension": ".py",
   "mimetype": "text/x-python",
   "name": "python",
   "nbconvert_exporter": "python",
   "pygments_lexer": "ipython3",
   "version": "3.5.2"
  }
 },
 "nbformat": 4,
 "nbformat_minor": 1
}
